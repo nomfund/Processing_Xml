{
 "cells": [
  {
   "cell_type": "markdown",
   "metadata": {},
   "source": [
    "# What is XML?\n",
    "\n",
    "XML stands for \"Extensible Markup Language\". It is mainly used in webpages, where the data has a specific structure and is understood dynamically by the XML framework. "
   ]
  },
  {
   "cell_type": "code",
   "execution_count": 1,
   "metadata": {},
   "outputs": [],
   "source": [
    "from xml.etree import ElementTree\n",
    "import pandas as pd\n",
    "import xml.etree.cElementTree as et\n"
   ]
  },
  {
   "cell_type": "code",
   "execution_count": 2,
   "metadata": {},
   "outputs": [
    {
     "name": "stdout",
     "output_type": "stream",
     "text": [
      "<data>\n",
      "  <country name=\"Liechtenstein\">\n",
      "    <rank>1</rank>\n",
      "    <year>2008</year>\n",
      "    <gdppc>141100</gdppc>\n",
      "    <neighbor direction=\"E\" name=\"Austria\" />\n",
      "    <neighbor direction=\"W\" name=\"Switzerland\" />\n",
      "  </country>\n",
      "  <country name=\"Singapore\">\n",
      "    <rank>4</rank>\n",
      "    <year>2011</year>\n",
      "    <gdppc>59900</gdppc>\n",
      "    <neighbor direction=\"N\" name=\"Malaysia\" />\n",
      "  </country>\n",
      "  <country name=\"Panama\">\n",
      "    <rank>68</rank>\n",
      "    <year>2011</year>\n",
      "    <gdppc>13600</gdppc>\n",
      "    <neighbor direction=\"W\" name=\"Costa Rica\" />\n",
      "    <neighbor direction=\"E\" name=\"Colombia\" />\n",
      "  </country>\n",
      "</data>\n"
     ]
    }
   ],
   "source": [
    "tree = ElementTree.parse(\"country_data.xml\")\n",
    "ElementTree.dump(tree)"
   ]
  },
  {
   "cell_type": "markdown",
   "metadata": {},
   "source": [
    "From what the above Xml file, you see that\n",
    "\n",
    "    <data> is the single root element: it contains all the other elements, such as <country name>, or <neighbor>, which are the child elements or subelements. As you can see, these elements are nested.\n"
   ]
  },
  {
   "cell_type": "code",
   "execution_count": 3,
   "metadata": {},
   "outputs": [
    {
     "name": "stdout",
     "output_type": "stream",
     "text": [
      "            name rank  year   gdppc neighbor_name\n",
      "0  Liechtenstein    1  2008  141100          None\n",
      "1      Singapore    4  2011   59900          None\n",
      "2         Panama   68  2011   13600          None\n"
     ]
    }
   ],
   "source": [
    "\n",
    "def getvalueofnode(node):\n",
    "    \"\"\" return node text or None \"\"\"\n",
    "    return node.text if node is not None else None\n",
    " \n",
    " \n",
    "def main():\n",
    "    \"\"\" main \"\"\"\n",
    "    parsed_xml = et.parse(\"country_data.xml\")\n",
    "    dfcols = ['name','rank', 'year', 'gdppc','neighbor_name'] \n",
    "    df_xml = pd.DataFrame(columns=dfcols)\n",
    " \n",
    "    for node in parsed_xml.getroot():\n",
    "        name = node.attrib.get('name')\n",
    "        rank = node.find('rank')\n",
    "        year = node.find('year')\n",
    "        gdppc = node.find('gdppc')\n",
    "        neighbor_name = node.attrib.get('neighbor direction')\n",
    " \n",
    "        df_xml = df_xml.append(\n",
    "            pd.Series([name,getvalueofnode(rank), getvalueofnode(year),\n",
    "                       getvalueofnode(gdppc),neighbor_name], index=dfcols),\n",
    "            ignore_index=True)\n",
    " \n",
    "    print(df_xml)\n",
    " \n",
    "main()"
   ]
  },
  {
   "cell_type": "code",
   "execution_count": 4,
   "metadata": {},
   "outputs": [],
   "source": [
    "import xml.etree.ElementTree as ET\n",
    "tree = ET.parse('country_data.xml')\n",
    "root = tree.getroot()"
   ]
  },
  {
   "cell_type": "markdown",
   "metadata": {},
   "source": [
    "# root has a tg"
   ]
  },
  {
   "cell_type": "code",
   "execution_count": 9,
   "metadata": {},
   "outputs": [
    {
     "data": {
      "text/plain": [
       "'data'"
      ]
     },
     "execution_count": 9,
     "metadata": {},
     "output_type": "execute_result"
    }
   ],
   "source": [
    "root.tag"
   ]
  },
  {
   "cell_type": "markdown",
   "metadata": {},
   "source": [
    "# root has a dictionary of attributes"
   ]
  },
  {
   "cell_type": "code",
   "execution_count": 10,
   "metadata": {},
   "outputs": [
    {
     "data": {
      "text/plain": [
       "{}"
      ]
     },
     "execution_count": 10,
     "metadata": {},
     "output_type": "execute_result"
    }
   ],
   "source": [
    "root.attrib"
   ]
  },
  {
   "cell_type": "markdown",
   "metadata": {},
   "source": [
    "# we can iterate children nodes of a root"
   ]
  },
  {
   "cell_type": "code",
   "execution_count": 13,
   "metadata": {},
   "outputs": [
    {
     "name": "stdout",
     "output_type": "stream",
     "text": [
      "country {'name': 'Liechtenstein'}\n",
      "country {'name': 'Singapore'}\n",
      "country {'name': 'Panama'}\n"
     ]
    }
   ],
   "source": [
    "for child in root :\n",
    "    print(child.tag,child.attrib)"
   ]
  },
  {
   "cell_type": "markdown",
   "metadata": {},
   "source": [
    "# We can expand the use of the iter() function to help with finding particular elements of interest. root.iter() will list all subelements under the root that match the element specified. Here, you will list all attributes of the neighbor element in the tree:"
   ]
  },
  {
   "cell_type": "code",
   "execution_count": 16,
   "metadata": {},
   "outputs": [
    {
     "name": "stdout",
     "output_type": "stream",
     "text": [
      "{'name': 'Austria', 'direction': 'E'}\n",
      "{'name': 'Switzerland', 'direction': 'W'}\n",
      "{'name': 'Malaysia', 'direction': 'N'}\n",
      "{'name': 'Costa Rica', 'direction': 'W'}\n",
      "{'name': 'Colombia', 'direction': 'E'}\n"
     ]
    }
   ],
   "source": [
    "for neighbor in root.iter('neighbor'):\n",
    "    print (neighbor.attrib)"
   ]
  },
  {
   "cell_type": "markdown",
   "metadata": {},
   "source": [
    "# It is helpful to know all the elements in the entire tree. One useful function for doing that is root.iter()"
   ]
  },
  {
   "cell_type": "code",
   "execution_count": 17,
   "metadata": {},
   "outputs": [
    {
     "data": {
      "text/plain": [
       "['data',\n",
       " 'country',\n",
       " 'rank',\n",
       " 'year',\n",
       " 'gdppc',\n",
       " 'neighbor',\n",
       " 'neighbor',\n",
       " 'country',\n",
       " 'rank',\n",
       " 'year',\n",
       " 'gdppc',\n",
       " 'neighbor',\n",
       " 'country',\n",
       " 'rank',\n",
       " 'year',\n",
       " 'gdppc',\n",
       " 'neighbor',\n",
       " 'neighbor']"
      ]
     },
     "execution_count": 17,
     "metadata": {},
     "output_type": "execute_result"
    }
   ],
   "source": [
    "[elem.tag for elem in root.iter()]"
   ]
  },
  {
   "cell_type": "markdown",
   "metadata": {},
   "source": [
    "This gives a general notion for how many elements you have, but it does not show the attributes or levels in the tree."
   ]
  },
  {
   "cell_type": "markdown",
   "metadata": {},
   "source": [
    "# Here, we search the tree for rank that came out in 2008:"
   ]
  },
  {
   "cell_type": "code",
   "execution_count": 23,
   "metadata": {},
   "outputs": [],
   "source": [
    "for country in root.findall(\"./country/rank/gdppc/[year='2008']\"):\n",
    "    print(country.attrib)"
   ]
  }
 ],
 "metadata": {
  "kernelspec": {
   "display_name": "Python 3",
   "language": "python",
   "name": "python3"
  },
  "language_info": {
   "codemirror_mode": {
    "name": "ipython",
    "version": 3
   },
   "file_extension": ".py",
   "mimetype": "text/x-python",
   "name": "python",
   "nbconvert_exporter": "python",
   "pygments_lexer": "ipython3",
   "version": "3.6.5"
  }
 },
 "nbformat": 4,
 "nbformat_minor": 2
}
